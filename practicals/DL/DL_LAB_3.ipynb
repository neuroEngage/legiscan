{
 "cells": [
  {
   "cell_type": "code",
   "execution_count": 4,
   "id": "5ef13938",
   "metadata": {},
   "outputs": [],
   "source": [
    "'''\n",
    "3. Design RNN or its variant including LSTM or GRU a) Select a suitable time series dataset.      \n",
    "Example – predict sentiments based on product reviews b) Apply for prediction \n",
    "'''\n",
    "None"
   ]
  },
  {
   "cell_type": "code",
   "execution_count": 5,
   "id": "e57642ce",
   "metadata": {},
   "outputs": [],
   "source": [
    "# 1. Import necessary libraries\n",
    "import numpy as np\n",
    "import matplotlib.pyplot as plt\n",
    "import seaborn as sns\n",
    "import tensorflow as tf\n",
    "from tensorflow.keras.models import Sequential\n",
    "from tensorflow.keras.layers import Embedding, LSTM, Dense, Dropout, GRU\n",
    "from tensorflow.keras.preprocessing.text import Tokenizer\n",
    "from tensorflow.keras.preprocessing.sequence import pad_sequences\n",
    "from sklearn.model_selection import train_test_split\n",
    "from sklearn.metrics import confusion_matrix, classification_report"
   ]
  },
  {
   "cell_type": "code",
   "execution_count": 7,
   "id": "19f4920c",
   "metadata": {},
   "outputs": [
    {
     "name": "stdout",
     "output_type": "stream",
     "text": [
      "Downloading data from https://storage.googleapis.com/tensorflow/tf-keras-datasets/imdb.npz\n",
      "\u001b[1m17464789/17464789\u001b[0m \u001b[32m━━━━━━━━━━━━━━━━━━━━\u001b[0m\u001b[37m\u001b[0m \u001b[1m3s\u001b[0m 0us/step\n"
     ]
    }
   ],
   "source": [
    "# 2. Load dataset\n",
    "# Here we use IMDB dataset provided by Keras\n",
    "from tensorflow.keras.datasets import imdb\n",
    "# Set vocabulary size\n",
    "vocab_size = 5000\n",
    "\n",
    "# Load data\n",
    "(X_train, y_train), (X_test, y_test) = imdb.load_data(num_words=vocab_size)"
   ]
  },
  {
   "cell_type": "code",
   "execution_count": 9,
   "id": "5fd623f2",
   "metadata": {},
   "outputs": [],
   "source": [
    "# 3. Pad sequences to same length\n",
    "max_len = 200\n",
    "X_train = pad_sequences(X_train, maxlen=max_len)\n",
    "X_test = pad_sequences(X_test, maxlen=max_len)"
   ]
  },
  {
   "cell_type": "code",
   "execution_count": 10,
   "id": "3f742fd8",
   "metadata": {},
   "outputs": [
    {
     "name": "stderr",
     "output_type": "stream",
     "text": [
      "D:\\Acadamics\\Internship\\iGurus\\New folder\\Lib\\site-packages\\keras\\src\\layers\\core\\embedding.py:86: UserWarning: Argument `input_length` is deprecated. Just remove it.\n",
      "  warnings.warn(\n"
     ]
    }
   ],
   "source": [
    "# 4. Define LSTM Model\n",
    "model = Sequential()\n",
    "model.add(Embedding(input_dim=vocab_size, output_dim=128, input_length=max_len))\n",
    "model.add(LSTM(128, return_sequences=True))\n",
    "model.add(Dropout(0.5))\n",
    "model.add(LSTM(64))\n",
    "model.add(Dropout(0.5))\n",
    "model.add(Dense(1, activation='sigmoid'))\n",
    "\n",
    "model.compile(loss='binary_crossentropy', optimizer='adam', metrics=['accuracy'])"
   ]
  },
  {
   "cell_type": "code",
   "execution_count": 11,
   "id": "15fc6e12",
   "metadata": {},
   "outputs": [
    {
     "name": "stdout",
     "output_type": "stream",
     "text": [
      "Epoch 1/5\n",
      "\u001b[1m391/391\u001b[0m \u001b[32m━━━━━━━━━━━━━━━━━━━━\u001b[0m\u001b[37m\u001b[0m \u001b[1m194s\u001b[0m 485ms/step - accuracy: 0.6793 - loss: 0.5733 - val_accuracy: 0.8504 - val_loss: 0.3456\n",
      "Epoch 2/5\n",
      "\u001b[1m391/391\u001b[0m \u001b[32m━━━━━━━━━━━━━━━━━━━━\u001b[0m\u001b[37m\u001b[0m \u001b[1m194s\u001b[0m 496ms/step - accuracy: 0.8596 - loss: 0.3406 - val_accuracy: 0.8537 - val_loss: 0.3560\n",
      "Epoch 3/5\n",
      "\u001b[1m391/391\u001b[0m \u001b[32m━━━━━━━━━━━━━━━━━━━━\u001b[0m\u001b[37m\u001b[0m \u001b[1m198s\u001b[0m 507ms/step - accuracy: 0.8742 - loss: 0.3163 - val_accuracy: 0.8545 - val_loss: 0.3398\n",
      "Epoch 4/5\n",
      "\u001b[1m391/391\u001b[0m \u001b[32m━━━━━━━━━━━━━━━━━━━━\u001b[0m\u001b[37m\u001b[0m \u001b[1m205s\u001b[0m 525ms/step - accuracy: 0.9034 - loss: 0.2480 - val_accuracy: 0.8708 - val_loss: 0.3216\n",
      "Epoch 5/5\n",
      "\u001b[1m391/391\u001b[0m \u001b[32m━━━━━━━━━━━━━━━━━━━━\u001b[0m\u001b[37m\u001b[0m \u001b[1m210s\u001b[0m 539ms/step - accuracy: 0.9328 - loss: 0.1840 - val_accuracy: 0.8647 - val_loss: 0.3248\n"
     ]
    }
   ],
   "source": [
    "# 5. Train the model\n",
    "history = model.fit(X_train, y_train, epochs=5, batch_size=64, validation_data=(X_test, y_test))"
   ]
  },
  {
   "cell_type": "code",
   "execution_count": 12,
   "id": "7c5c4d5b",
   "metadata": {},
   "outputs": [
    {
     "name": "stdout",
     "output_type": "stream",
     "text": [
      "\u001b[1m782/782\u001b[0m \u001b[32m━━━━━━━━━━━━━━━━━━━━\u001b[0m\u001b[37m\u001b[0m \u001b[1m36s\u001b[0m 46ms/step - accuracy: 0.8620 - loss: 0.3272\n",
      "Test Accuracy: 86.47%\n"
     ]
    }
   ],
   "source": [
    "# 6. Evaluate the model\n",
    "loss, accuracy = model.evaluate(X_test, y_test)\n",
    "print(f\"Test Accuracy: {accuracy*100:.2f}%\")"
   ]
  },
  {
   "cell_type": "code",
   "execution_count": 13,
   "id": "ce7c09af",
   "metadata": {},
   "outputs": [
    {
     "name": "stdout",
     "output_type": "stream",
     "text": [
      "\u001b[1m782/782\u001b[0m \u001b[32m━━━━━━━━━━━━━━━━━━━━\u001b[0m\u001b[37m\u001b[0m \u001b[1m39s\u001b[0m 49ms/step\n"
     ]
    },
    {
     "data": {
      "image/png": "[encoded data removed]",
      "text/plain": [
       "<Figure size 640x480 with 2 Axes>"
      ]
     },
     "metadata": {},
     "output_type": "display_data"
    }
   ],
   "source": [
    "# 7. Predict and Plot Confusion Matrix\n",
    "y_pred = (model.predict(X_test) > 0.5).astype(\"int32\")\n",
    "\n",
    "cm = confusion_matrix(y_test, y_pred)\n",
    "sns.heatmap(cm, annot=True, fmt=\"d\", cmap=\"Blues\")\n",
    "plt.title(\"Confusion Matrix\")\n",
    "plt.xlabel(\"Predicted\")\n",
    "plt.ylabel(\"Actual\")\n",
    "plt.show()"
   ]
  },
  {
   "cell_type": "code",
   "execution_count": 16,
   "id": "bb2e5e0c",
   "metadata": {},
   "outputs": [
    {
     "data": {
      "text/plain": [
       "array([[0],\n",
       "       [1],\n",
       "       [1],\n",
       "       ...,\n",
       "       [0],\n",
       "       [0],\n",
       "       [1]])"
      ]
     },
     "execution_count": 16,
     "metadata": {},
     "output_type": "execute_result"
    }
   ],
   "source": [
    "y_pred"
   ]
  },
  {
   "cell_type": "code",
   "execution_count": 17,
   "id": "6503c9f0",
   "metadata": {},
   "outputs": [
    {
     "name": "stdout",
     "output_type": "stream",
     "text": [
      "              precision    recall  f1-score   support\n",
      "\n",
      "           0       0.84      0.90      0.87     12500\n",
      "           1       0.89      0.83      0.86     12500\n",
      "\n",
      "    accuracy                           0.86     25000\n",
      "   macro avg       0.87      0.86      0.86     25000\n",
      "weighted avg       0.87      0.86      0.86     25000\n",
      "\n"
     ]
    }
   ],
   "source": [
    "# 8. Classification Report\n",
    "print(classification_report(y_test, y_pred))"
   ]
  },
  {
   "cell_type": "code",
   "execution_count": 15,
   "id": "4a7c56dd",
   "metadata": {},
   "outputs": [],
   "source": [
    "#Explaination"
   ]
  },
  {
   "cell_type": "code",
   "execution_count": null,
   "id": "10857f82",
   "metadata": {},
   "outputs": [],
   "source": [
    "'''\n",
    "1. Import Libraries:\n",
    "We import TensorFlow, Keras layers (Embedding, LSTM, Dense), tools for tokenizing, padding \n",
    "sequences, plotting, and evaluating with confusion matrices.\n",
    "\n",
    "2. Load Dataset:\n",
    "We use the IMDB movie review dataset, which is perfect for sentiment prediction — each review \n",
    "is already encoded into sequences of word indices.\n",
    "We limit the vocabulary to the 5000 most frequent words for simplicity.\n",
    "\n",
    "3. Pad Sequences:\n",
    "Because reviews are different lengths, we pad them to the same size (max_len = 200).\n",
    "Padding ensures all input samples are of equal size (necessary for LSTM inputs).\n",
    "\n",
    "4. Define Model:\n",
    "Embedding layer: Turns each word index into a 128-dimensional dense vector.\n",
    "First LSTM layer: 128 memory units, returns sequences (because we have stacked LSTM).\n",
    "\n",
    "Dropout: 50% dropout to prevent overfitting.\n",
    "\n",
    "Second LSTM layer: 64 memory units.\n",
    "Another Dropout: 50% again.\n",
    "\n",
    "Dense output layer: 1 neuron with sigmoid activation (because binary classification: positive/negative).\n",
    "Model compiled with:\n",
    "Loss = binary_crossentropy (good for 2-class tasks)\n",
    "\n",
    "Optimizer = adam\n",
    "\n",
    "Metrics = accuracy\n",
    "\n",
    "5. Train Model:\n",
    "Train the model on training data for 5 epochs, validating on test data after every epoch.\n",
    "batch_size=64 means 64 samples are processed before updating the weights.\n",
    "\n",
    "6. Evaluate Model:\n",
    "We print the test accuracy.\n",
    "\n",
    "7. Predict + Confusion Matrix:\n",
    "Predict the test reviews' sentiments and plot a confusion matrix to visually check how many positives and negatives were classified correctly.\n",
    "\n",
    "8. Classification Report:\n",
    "Print detailed metrics like precision, recall, and F1-score for both classes.\n",
    "'''"
   ]
  }
 ],
 "metadata": {
  "kernelspec": {
   "display_name": "Python 3 (ipykernel)",
   "language": "python",
   "name": "python3"
  },
  "language_info": {
   "codemirror_mode": {
    "name": "ipython",
    "version": 3
   },
   "file_extension": ".py",
   "mimetype": "text/x-python",
   "name": "python",
   "nbconvert_exporter": "python",
   "pygments_lexer": "ipython3",
   "version": "3.11.5"
  }
 },
 "nbformat": 4,
 "nbformat_minor": 5
}
